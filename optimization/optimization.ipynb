{
 "cells": [
  {
   "cell_type": "code",
   "execution_count": 248,
   "metadata": {},
   "outputs": [
    {
     "data": {
      "image/png": "[encoded data removed]",
      "text/plain": [
       "<Figure size 640x480 with 1 Axes>"
      ]
     },
     "metadata": {},
     "output_type": "display_data"
    },
    {
     "name": "stdout",
     "output_type": "stream",
     "text": [
      "------ ITERATION NUMBER 0 ------\n",
      "Volume fraction       : 0.7635\n"
     ]
    },
    {
     "ename": "AttributeError",
     "evalue": "'Structure' object has no attribute 'u'",
     "output_type": "error",
     "traceback": [
      "\u001b[0;31m---------------------------------------------------------------------------\u001b[0m",
      "\u001b[0;31mAttributeError\u001b[0m                            Traceback (most recent call last)",
      "Cell \u001b[0;32mIn[248], line 97\u001b[0m\n\u001b[1;32m     94\u001b[0m \u001b[39mprint\u001b[39m(\u001b[39m'\u001b[39m\u001b[39mVolume fraction       : \u001b[39m\u001b[39m%.4f\u001b[39;00m\u001b[39m'\u001b[39m \u001b[39m%\u001b[39m Vol[It]) \n\u001b[1;32m     96\u001b[0m \u001b[39m# Compute the descent direction th \u001b[39;00m\n\u001b[0;32m---> 97\u001b[0m th \u001b[39m=\u001b[39m structure\u001b[39m.\u001b[39;49mshape_derivative()\n\u001b[1;32m     98\u001b[0m th_mat \u001b[39m=\u001b[39m _to_mesh(th, structure, Nx, Ny)\n\u001b[1;32m    100\u001b[0m \u001b[39m# Update PLSF\u001b[39;00m\n",
      "File \u001b[0;32m~/Thermo-mechanical/structure_thermoelastic.py:105\u001b[0m, in \u001b[0;36mStructure.shape_derivative\u001b[0;34m(self)\u001b[0m\n\u001b[1;32m    103\u001b[0m \u001b[39mdef\u001b[39;00m \u001b[39mshape_derivative\u001b[39m(\u001b[39mself\u001b[39m):\n\u001b[1;32m    104\u001b[0m     xi \u001b[39m=\u001b[39m TestFunction(\u001b[39mself\u001b[39m\u001b[39m.\u001b[39mU); th \u001b[39m=\u001b[39m fem\u001b[39m.\u001b[39mFunction(\u001b[39mself\u001b[39m\u001b[39m.\u001b[39mU)                   \n\u001b[0;32m--> 105\u001b[0m     eu,ep,Du,Dp \u001b[39m=\u001b[39m [sym(grad(\u001b[39mself\u001b[39;49m\u001b[39m.\u001b[39;49mu)),grad(\u001b[39mself\u001b[39m\u001b[39m.\u001b[39mu),sym(grad(\u001b[39mself\u001b[39m\u001b[39m.\u001b[39mp)),grad(\u001b[39mself\u001b[39m\u001b[39m.\u001b[39mp)]\n\u001b[1;32m    106\u001b[0m     \u001b[39m#S1 = \u001b[39;00m\n\u001b[1;32m    107\u001b[0m     \u001b[39m# rhs = \u001b[39;00m\n\u001b[1;32m    108\u001b[0m     \u001b[39m# self.solverav.solve(th.vector(), rhs)\u001b[39;00m\n\u001b[1;32m    109\u001b[0m     \u001b[39mreturn\u001b[39;00m th\n",
      "\u001b[0;31mAttributeError\u001b[0m: 'Structure' object has no attribute 'u'"
     ]
    }
   ],
   "source": [
    "from dolfinx import fem, io, geometry\n",
    "from dolfinx.mesh import (create_rectangle, CellType, locate_entities, meshtags)\n",
    "import dolfinx.cpp as _cpp\n",
    "from ufl import Measure, pi, conditional, le, ge,dx, Identity, nabla_grad, div, inner, sym, grad, TestFunction\n",
    "from mpi4py import MPI\n",
    "from matplotlib import cm, pyplot as plt\n",
    "import numpy as np, sys, os\n",
    "import time\n",
    "%run structure_thermoelastic.py\n",
    "%run aux.py\n",
    "\n",
    "final_directory = os.path.join(os.getcwd(), r'Files - optimization')\n",
    "if not os.path.exists(final_directory): os.makedirs(final_directory)\n",
    "\n",
    "def _comp_lsf(structure, phi_mat):            \n",
    "    phi = fem.Function(structure.V)       \n",
    "    for dof in range(0,structure.dofsV_max):              \n",
    "        if np.rint(structure.px[dof]) %2 == .0: \n",
    "            cx,cy = np.int_(np.rint([structure.px[dof]/2,structure.py[dof]/2]))                                            \n",
    "            phi.x.array[dof] = phi_mat[cy,cx]\n",
    "        else:\n",
    "            cx,cy = np.int_(np.floor([structure.px[dof]/2,structure.py[dof]/2]))                      \n",
    "            phi.x.array[dof] = 0.25*(phi_mat[cy,cx] + phi_mat[cy+1,cx]\\\n",
    "              + phi_mat[cy,cx+1] + phi_mat[cy+1,cx+1])    \n",
    "    return phi \n",
    "\n",
    "def _to_mesh(th, structure, Nx, Ny):\n",
    "    th_array = th.vector().get_local()\n",
    "    th_mat = [np.zeros((Ny+1,Nx+1)),np.zeros((Ny+1,Nx+1))]          \n",
    "    for dof in range(0, structure.dofsVvec_max,2):\n",
    "        if (np.rint(structure.pxvec[dof]) % 2.0 == .0) and (np.rint(structure.pyvec[dof]) % 2.0 == .0):\n",
    "            cx,cy= np.int_(np.rint([structure.pxvec[dof]/2,structure.pyvec[dof]/2]))\n",
    "            th_mat[0][cy,cx] = th_array[dof]\n",
    "            th_mat[1][cy,cx] = th_array[dof+1]\n",
    "    return th_mat\n",
    "\n",
    "def _hj_update(v,psi,lx,ly,Nx,Ny,beta): \n",
    "    for k in range(10):\n",
    "        Dym = Ny*np.repeat(np.diff(psi,axis=0),[2]+[1]*(Ny-1),axis=0)/ly \n",
    "        Dyp = Ny*np.repeat(np.diff(psi,axis=0),[1]*(Ny-1)+[2],axis=0)/ly\n",
    "        Dxm = Nx*np.repeat(np.diff(psi),[2]+[1]*(Nx-1),axis=1)/lx \n",
    "        Dxp = Nx*np.repeat(np.diff(psi),[1]*(Nx-1)+[2],axis=1)/lx          \n",
    "        g = 0.5*( v[0]*(Dxp + Dxm) + v[1]*(Dyp + Dym)) \\\n",
    "          - 0.5*(np.abs(v[0])*(Dxp - Dxm) + np.abs(v[1])*(Dyp - Dym)) \n",
    "        maxv = np.max(abs(v[0]) + abs(v[1]))\n",
    "        dt  = beta*lx / (Nx*maxv)\n",
    "        psi = psi - dt*g\n",
    "    return  psi         \n",
    "\n",
    "def plot(phi_mat, lx, ly, It):\n",
    "    cs = plt.subplot()  \n",
    "    cs.contourf(phi_mat, levels=[-np.max(phi_mat),0],extent = [.0,lx,.0,ly],cmap=cm.get_cmap('Accent'))\n",
    "    cs.set_aspect('equal','box')\n",
    "    plt.axis('off')\n",
    "    plt.savefig(final_directory+'/It = '+str(It)+'.pdf',bbox_inches='tight')\n",
    "    plt.show()\n",
    "\n",
    "# ---- Structure parameters --------------------------\n",
    "lx, ly = [2.0, 1.0]; Nx, Ny = [200,100]; \n",
    "nNodes = (Nx+1)*(Ny+1) + Nx*Ny; hS = (ly/Ny)\n",
    "rho = 1.0; kappa = 1.0; beta = 1.0; alpha =  1e-12                                  \n",
    "E, nu = 1.0, 0.3\n",
    "eps_er = 1e-3\n",
    "\n",
    "# ---- Optimization parameters -----------------------\n",
    "Lag, rho, rho_max = [60.0,1.0, 5e3]; gamma = 1.2; tau = 0.9; inv=[]\n",
    "dt = 0.2; eps = 1.0*hS; zeta = lx; volfrac = 0.5\n",
    "\n",
    "# ---- Structure Initialization ----------------------\n",
    "structure = Structure(lx, ly, Nx, Ny, E, nu, rho, kappa, beta, alpha, eps_er)\n",
    "\n",
    "# ---- LSF Initialization ---------------------------\n",
    "XX,YY = np.meshgrid(np.linspace(0.0,lx,Nx+1),np.linspace(0.0,ly,Ny+1))   \n",
    "phi_mat = -np.cos(8.0/lx*pi*XX) * np.cos(4.0*pi*YY) - 0.4\\\n",
    "    + np.maximum(200.0*(0.01-XX**2-(YY-ly/2)**2),.0)\\\n",
    "    + np.maximum(100.0*(XX+YY-lx-ly+0.1),.0) + np.maximum(100.0*(XX-YY-lx+0.1),.0)   \n",
    "phi = _comp_lsf(structure, phi_mat) \n",
    "structure.map_geometry(phi)\n",
    "\n",
    "# ---- Optimization Initialization -------------------\n",
    "ItMax,It,stop = [150,0,False] \n",
    "Lag_it = [Lag]; rho_it = [rho]; w_it = np.zeros(ItMax)\n",
    "Comp = [structure.get_compliance()]\n",
    "Vol = [structure.get_volume_fraction()]\n",
    "J = [Comp[0]]\n",
    "\n",
    "# ---- Initial Plot ----------------------------------\n",
    "plot(phi_mat, lx, ly, 0)\n",
    "\n",
    "# ---------- MAIN LOOP ----------------------------------------------\n",
    "while It < ItMax and stop == False:\n",
    "    print('------ ITERATION NUMBER %s ------' % It)                   \n",
    "    # print('Cost Functional       : %.2f' % J[It])\n",
    "    print('Volume fraction       : %.4f' % Vol[It]) \n",
    "\n",
    "    # Compute the descent direction th \n",
    "    th = structure.shape_derivative()\n",
    "    th_mat = _to_mesh(th, structure, Nx, Ny)\n",
    "\n",
    "    # Update PLSF\n",
    "    phi_mat = _hj_update(th_mat, phi_mat, lx,ly,Nx,Ny, beta)\n",
    "\n",
    "    # Volume Calculus\n",
    "    structure.map_geometry(phi)\n",
    "    Vol.append(structure.get_volume_fraction())\n",
    "\n",
    "    # Cost Functional \n",
    "    structure.state_thermomechanical_solver()\n",
    "    structure.adjoint_thermomechanical_solver()\n",
    "\n",
    "    # Lagrange Multiplier Update\n",
    "    w_it[It] = np.maximum(zeta*(Vol[It] - volfrac), - Lag/rho)\n",
    "    Lag = Lag + rho*np.maximum(zeta*(Vol[It] - volfrac),-Lag/rho)\n",
    "    invia = abs(w_it[It])/abs(w_it[It-1]); inv.append(invia)\n",
    "    if It > 1 and abs(w_it[It]) < tau*abs(w_it[It-1]): rho = rho\n",
    "    else: rho = np.minimum(rho*gamma, rho_max)\n",
    "    Lag_it.append(Lag); rho_it.append(rho)\n",
    "\n",
    "    # Stopping Criteria \n",
    "    if It>10 and all(abs((J[It-6:It]-J[It])) < (hS/2)*J[It]) and all(abs((np.array(Vol[It-3:It])-volfrac)) < hS):\n",
    "        stop = True\n",
    "\n",
    "    # Plot Geometry  \n",
    "    if np.mod(It,10)==0 or It==1 or It== ItMax or stop==True:   \n",
    "        plot(phi_mat, lx, ly, 0)\n",
    "    It += 1\n",
    "\n",
    "# ---------- PLOT RESULTS ----------------------------------------------\n",
    "plot_results(J, Comp, Vol, It, Lag_it, rho_it, dJ, volfrac, zeta)"
   ]
  },
  {
   "cell_type": "code",
   "execution_count": null,
   "metadata": {},
   "outputs": [
    {
     "data": {
      "text/plain": [
       "0.7638271604934278"
      ]
     },
     "execution_count": 236,
     "metadata": {},
     "output_type": "execute_result"
    }
   ],
   "source": [
    "structure.map_geometry(phi)\n",
    "structure.get_volume_fraction()"
   ]
  },
  {
   "cell_type": "code",
   "execution_count": 229,
   "metadata": {},
   "outputs": [
    {
     "data": {
      "text/plain": [
       "Coefficient(FunctionSpace(Mesh(VectorElement(Basix element (P, triangle, 1, gll_warped, unset, False), 2), 149), Basix element (P, triangle, 1, gll_warped, unset, False)), 170)"
      ]
     },
     "execution_count": 229,
     "metadata": {},
     "output_type": "execute_result"
    }
   ],
   "source": []
  },
  {
   "cell_type": "code",
   "execution_count": 228,
   "metadata": {},
   "outputs": [
    {
     "ename": "AttributeError",
     "evalue": "type object 'Structure' has no attribute 'get_volume'",
     "output_type": "error",
     "traceback": [
      "\u001b[0;31m---------------------------------------------------------------------------\u001b[0m",
      "\u001b[0;31mAttributeError\u001b[0m                            Traceback (most recent call last)",
      "Cell \u001b[0;32mIn[228], line 1\u001b[0m\n\u001b[0;32m----> 1\u001b[0m Structure\u001b[39m.\u001b[39;49mget_volume()\n",
      "\u001b[0;31mAttributeError\u001b[0m: type object 'Structure' has no attribute 'get_volume'"
     ]
    }
   ],
   "source": [
    "Structure.get_volume()"
   ]
  },
  {
   "cell_type": "code",
   "execution_count": 237,
   "metadata": {},
   "outputs": [
    {
     "data": {
      "image/png": "[encoded data removed]",
      "text/plain": [
       "<Figure size 640x480 with 1 Axes>"
      ]
     },
     "metadata": {},
     "output_type": "display_data"
    }
   ],
   "source": [
    "XX,YY = np.meshgrid(np.linspace(0.0,lx,Nx+1),np.linspace(0.0,ly,Ny+1))\n",
    "r = 0.1*ly \n",
    "hX = lx*np.array([1/6, 5/6,1/6,5/6,1/6,5/6,0,1/3,2/3,1,0,1/3,2/3,1,1/2])\n",
    "hY = ly*np.array([0.,0.,0.5,0.5,1.,1.,0.25,0.25,0.25,0.25,0.75,0.75,0.75,0.75,0.5])\n",
    "Phi = np.sqrt((XX-hX[0])**2+(YY-hY[0])**2)-r\n",
    "for iH in range(1,len(hX)):\n",
    "    Phi = np.minimum(Phi,np.sqrt((XX-hX[iH])**2+(YY - hY[iH])**2)-r)\n",
    "phi_mat = - np.maximum(-0.1,np.minimum(0.1,Phi)) \n",
    "\n",
    "msh = create_rectangle(comm=MPI.COMM_WORLD,\n",
    "            points=((0.0, 0.0), (lx,ly)), n=(Nx, Ny),\n",
    "            cell_type=CellType.triangle, diagonal = _cpp.mesh.DiagonalType.crossed)\n",
    "\n",
    "V = fem.FunctionSpace(msh, (\"CG\", 1))\n",
    "gdim     = msh.topology.dim\n",
    "dofsV    = V.tabulate_dof_coordinates()[:,:-1]  \n",
    "px,py    = [(dofsV[:,0]/lx)*2*Nx, (dofsV[:,1]/ly)*2*Ny]\n",
    "dofsV_max = (Nx+1)*(Ny+1) + Nx*Ny \n",
    "phi = fem.Function(V)    \n",
    "phi = _comp_lsf(px,py,phi,phi_mat,dofsV_max) \n",
    "\n",
    "plot(phi_mat, lx, ly, 0)"
   ]
  },
  {
   "cell_type": "code",
   "execution_count": 106,
   "metadata": {},
   "outputs": [],
   "source": [
    "def locator(phi, x):\n",
    "    i = np.where((dofsV[:,0] == x[0]) & (dofsV[:,1] == x[1]))[0][0]\n",
    "    return phi.x.array[i] <= -tol\n",
    "fdim = msh.topology.dim\n",
    "cells = locate_entities(msh, fdim, lambda x: locator(phi, x))\n",
    "\n",
    "tol = 1e-8\n",
    "subdomains = [(1, lambda x: phi(x) < 0),\n",
    "              (0,  lambda x: phi(x) < 0)]\n",
    "cell_tag = tag_subdomains(msh, subdomains) \n",
    "dx = Measure(\"dx\", domain=msh, subdomain_data=cell_tag)\n",
    "print('Volume: ' + str(fem.assemble_scalar(fem.form(fem.Constant(msh, 1.0)*dx(1)))))"
   ]
  },
  {
   "cell_type": "code",
   "execution_count": null,
   "metadata": {},
   "outputs": [],
   "source": [
    "def tag_subdomains(msh, subdomains): # Identifies and marks subdomains accoring to locator function\n",
    "    cell_indices, cell_markers = [], [] #List for facet indices and respective markers\n",
    "    fdim = msh.topology.dim\n",
    "    for (marker, locator) in subdomains:\n",
    "        cells = locate_entities(msh, fdim, locator)\n",
    "        cell_indices.append(cells)\n",
    "        cell_markers.append(np.full_like(cells, marker))\n",
    "    cell_indices = np.hstack(cell_indices).astype(np.int32)\n",
    "    cell_markers = np.hstack(cell_markers).astype(np.int32)\n",
    "    sorted_cells = np.argsort(cell_indices)\n",
    "    cell_tag = meshtags(msh, fdim, cell_indices[sorted_cells], cell_markers[sorted_cells]) \n",
    "    return cell_tag\n",
    "\n",
    "# Level set funcion\n",
    "radius = 0.2; tol = 1e-8\n",
    "lx, ly = [1.0, 1.0]; Nx, Ny = [100, 100]\n",
    "\n",
    "def phi_expression(x):\n",
    "    return  np.sqrt((x[0] - 0.5)**2 + (x[1]-0.5)**2) - radius\n",
    "\n",
    "msh = create_rectangle(comm=MPI.COMM_WORLD,\n",
    "            points=((0.0, 0.0), (lx,ly)), n=(Nx, Ny),\n",
    "            cell_type=CellType.triangle, diagonal = _cpp.mesh.DiagonalType.crossed)\n",
    "\n",
    "subdomains = [(1, lambda x: phi_expression(x) <= tol), \n",
    "                (0, lambda x: phi_expression(x) >= tol)]\n",
    "cell_tag = tag_subdomains(msh, subdomains) \n",
    "dx = Measure(\"dx\", domain=msh, subdomain_data=cell_tag)\n",
    "print('Volume subdomain: ' + str(fem.assemble_scalar(fem.form(fem.Constant(msh, 1.0)*dx(1)))))\n",
    "\n",
    "# Saving for paraview\n",
    "Q = fem.FunctionSpace(msh, (\"DG\", 0))\n",
    "m = fem.Function(Q)\n",
    "m.x.array[:] = 0\n",
    "m.x.array[cell_tag.find(1)] = 1\n",
    "\n",
    "comm=MPI.COMM_WORLD\n",
    "with io.XDMFFile(comm, 'subdomains_phiexpression.xdmf', \"w\") as file:\n",
    "    file.write_mesh(msh)\n",
    "    file.write_function(m)\n",
    "\n"
   ]
  }
 ],
 "metadata": {
  "kernelspec": {
   "display_name": "fenicsx-env",
   "language": "python",
   "name": "python3"
  },
  "language_info": {
   "codemirror_mode": {
    "name": "ipython",
    "version": 3
   },
   "file_extension": ".py",
   "mimetype": "text/x-python",
   "name": "python",
   "nbconvert_exporter": "python",
   "pygments_lexer": "ipython3",
   "version": "3.10.9"
  },
  "orig_nbformat": 4,
  "vscode": {
   "interpreter": {
    "hash": "7f2e612cb48af41c7c3724bc5d5e810682552ebb570db2766c6a7f0c76598c61"
   }
  }
 },
 "nbformat": 4,
 "nbformat_minor": 2
}
