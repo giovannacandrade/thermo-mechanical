{
 "cells": [
  {
   "cell_type": "code",
   "execution_count": 2,
   "metadata": {},
   "outputs": [],
   "source": [
    "from dolfinx import fem, io, geometry\n",
    "from dolfinx.mesh import (locate_entities, create_rectangle, CellType, meshtags)\n",
    "import dolfinx.cpp as _cpp\n",
    "from ufl import Measure, pi, conditional, lt, gt,dx\n",
    "from mpi4py import MPI\n",
    "from matplotlib import cm, pyplot as plt\n",
    "import numpy as np\n",
    "import time"
   ]
  },
  {
   "attachments": {},
   "cell_type": "markdown",
   "metadata": {},
   "source": [
    "# Identificando o dóminio "
   ]
  },
  {
   "cell_type": "code",
   "execution_count": 3,
   "metadata": {},
   "outputs": [],
   "source": [
    "lx, ly = [2.0, 1.0]; Nx, Ny = [10, 5]\n",
    "msh = create_rectangle(comm=MPI.COMM_WORLD,\n",
    "            points=((0.0, 0.0), (lx,ly)), n=(Nx, Ny),\n",
    "            cell_type=CellType.triangle, diagonal = _cpp.mesh.DiagonalType.crossed)"
   ]
  },
  {
   "attachments": {},
   "cell_type": "markdown",
   "metadata": {},
   "source": [
    "1) A partir da geometria do domínio"
   ]
  },
  {
   "cell_type": "code",
   "execution_count": 4,
   "metadata": {},
   "outputs": [],
   "source": [
    "def tag_subdomains(msh, subdomains):\n",
    "    # Identifies and marks subdomains accoring to locator function\n",
    "    cell_indices, cell_markers = [], [] #List for facet indices and respective markers\n",
    "    cdim = msh.topology.dim\n",
    "    for (marker, locator) in subdomains:\n",
    "        cells = locate_entities(msh, cdim, locator)\n",
    "        cell_indices.append(cells)\n",
    "        cell_markers.append(np.full_like(cells, marker))\n",
    "    cell_indices = np.hstack(cell_indices).astype(np.int32)\n",
    "    cell_markers = np.hstack(cell_markers).astype(np.int32)\n",
    "    sorted_cells = np.argsort(cell_indices)\n",
    "    cell_tag = meshtags(msh, cdim, cell_indices[sorted_cells], cell_markers[sorted_cells]) \n",
    "    return cell_tag\n",
    "\n",
    "\n",
    "radius = 0.4; tol = 1e-8\n",
    "\n",
    "def phi_expression(x):\n",
    "    return  - np.sqrt((x[0] - 1.0)**2 + (x[1]-0.5)**2) + radius\n",
    "\n",
    "subdomains = [(1, lambda x: phi_expression(x) <= -tol), \n",
    "                (0, lambda x: phi_expression(x) >= -tol)]\n",
    "\n",
    "cell_tag = tag_subdomains(msh, subdomains) \n",
    "dx = Measure(\"dx\", domain=msh, subdomain_data=cell_tag)"
   ]
  },
  {
   "attachments": {},
   "cell_type": "markdown",
   "metadata": {},
   "source": [
    "2) A partir de uma expressão analitica para phi"
   ]
  },
  {
   "attachments": {},
   "cell_type": "markdown",
   "metadata": {},
   "source": [
    "3) A partir de uma função phi (só valores discretos conhecidos)"
   ]
  },
  {
   "cell_type": "code",
   "execution_count": null,
   "metadata": {},
   "outputs": [],
   "source": [
    "for N in [10,20,40,80,160,320, 640]:\n",
    "    msh = create_rectangle(comm=MPI.COMM_WORLD,\n",
    "                points=((0.0, 0.0), (lx,ly)), n=(N, N),\n",
    "                cell_type=CellType.triangle, diagonal = _cpp.mesh.DiagonalType.crossed)\n",
    "    V = fem.FunctionSpace(msh, (\"CG\", 1))\n",
    "    phi = fem.Function(V)\n",
    "    phi.interpolate(phi_expression)\n",
    "    dx = Measure(\"dx\", domain=msh)\n",
    "    int_dx = conditional(le(phi, tol), 1, 0)*dx\n",
    "    ext_dx = conditional(ge(phi, tol), 1, 0)*dx\n",
    "    vol_teo = pi*radius**2\n",
    "    vol = fem.assemble_scalar(fem.form(int_dx))\n",
    "\n",
    "    print('error conditional: ' + str(abs(vol - vol_teo)))"
   ]
  },
  {
   "attachments": {},
   "cell_type": "markdown",
   "metadata": {},
   "source": [
    "4) No caso de PLSF, em que a expressão anaĺitica pra phi é conhecida: phi(x) =  inner(alpha, )"
   ]
  },
  {
   "cell_type": "code",
   "execution_count": null,
   "metadata": {},
   "outputs": [],
   "source": []
  }
 ],
 "metadata": {
  "kernelspec": {
   "display_name": "Python 3",
   "language": "python",
   "name": "python3"
  },
  "language_info": {
   "codemirror_mode": {
    "name": "ipython",
    "version": 3
   },
   "file_extension": ".py",
   "mimetype": "text/x-python",
   "name": "python",
   "nbconvert_exporter": "python",
   "pygments_lexer": "ipython3",
   "version": "3.8.10"
  },
  "orig_nbformat": 4,
  "vscode": {
   "interpreter": {
    "hash": "916dbcbb3f70747c44a77c7bcd40155683ae19c65e1c03b4aa3499c5328201f1"
   }
  }
 },
 "nbformat": 4,
 "nbformat_minor": 2
}
